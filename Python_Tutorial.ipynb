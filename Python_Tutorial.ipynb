{
  "cells": [
    {
      "attachments": {},
      "cell_type": "markdown",
      "metadata": {},
      "source": [
        "# 1. Python lernen mit Jupyter Notebook"
      ]
    },
    {
      "attachments": {},
      "cell_type": "markdown",
      "metadata": {},
      "source": [
        "Mit Hilfe dieses Jupyter Notebooks, kannst du wichtige Grundlagen der Programmiersprache Python lernen. Die Code-Beispiele sind interaktiv, so dass du diese verändern kannst und damit spielen kannst um herauszufinden, wie Dinge in Python funktionieren."
      ]
    },
    {
      "cell_type": "markdown",
      "metadata": {
        "id": "s_v4ju_7lwvK"
      },
      "source": [
        "# 2. Erste Codezeilen mit Python\n",
        "\n",
        "Finde heraus, welche Python-Version von der Laufzeitumgebung verwendet wird."
      ]
    },
    {
      "cell_type": "code",
      "execution_count": 6,
      "metadata": {
        "colab": {
          "base_uri": "https://localhost:8080/",
          "height": 35
        },
        "id": "QOsxRiG3oVmt",
        "outputId": "33c0cf23-19ee-4ace-bfe5-7dc3191c41f3"
      },
      "outputs": [
        {
          "data": {
            "text/plain": [
              "'3.10.6'"
            ]
          },
          "execution_count": 6,
          "metadata": {},
          "output_type": "execute_result"
        }
      ],
      "source": [
        "from platform import python_version\n",
        "python_version()"
      ]
    },
    {
      "cell_type": "markdown",
      "metadata": {
        "id": "Jp_XauXgKXi2"
      },
      "source": [
        "## 2-1 Hello-World Programm\n",
        "Das Hello-World-Programm ist das kleinste lauffähige Programm in Python und gibt den Text \"Hello World\" auf der Konsole aus. Es verwendet für die Ausgabe die print-Funktion, die als Parameter die Zeichenkette \"Hello World\" erhält."
      ]
    },
    {
      "cell_type": "code",
      "execution_count": 7,
      "metadata": {
        "colab": {
          "base_uri": "https://localhost:8080/"
        },
        "id": "eONj3DuBlwvL",
        "outputId": "5921d251-e181-4530-9932-0237ac5b55c8"
      },
      "outputs": [
        {
          "name": "stdout",
          "output_type": "stream",
          "text": [
            "Hello World2!\n"
          ]
        }
      ],
      "source": [
        "# Ausgabe mit Hilfe der print-Funktion\n",
        "print(\"Hello World2!\")"
      ]
    },
    {
      "attachments": {},
      "cell_type": "markdown",
      "metadata": {
        "id": "-1lVDGkJlwvS"
      },
      "source": [
        " ## 2-2 Einrückungen für die Strukturierung von Codeblöcken\n",
        "Im Gegensatz zu vielen anderen Programmiersprachen verwendet Python Einrückungen und Leerzeichen, um Codeblöckezu definieren, d.h. zusammengehörige Befehle anzugeben. Viele andere Programmiersprachen verwenden dazu geschweifte Klammern.         "
      ]
    },
    {
      "cell_type": "code",
      "execution_count": 4,
      "metadata": {
        "colab": {
          "base_uri": "https://localhost:8080/"
        },
        "id": "5GFVRLeflwvT",
        "outputId": "7690b90b-81eb-419d-ea1e-69bc8c841e13"
      },
      "outputs": [
        {
          "name": "stdout",
          "output_type": "stream",
          "text": [
            "Positiv!\n",
            "4 ist größer als 0\n"
          ]
        }
      ],
      "source": [
        "# wenn 4 > 0 ist, dann werden die beiden nachfolgenden Blöcke ausgeführt.\n",
        "# Wichtig: -> es werden in Python keine geschweiften Klammern verwendet. \n",
        "if 4 > 0 :\n",
        "    print(\"Positiv!\")  # und es werden in Python keine Semikolons (;) verwendet\n",
        "    print(\"4 ist größer als 0\") "
      ]
    },
    {
      "cell_type": "code",
      "execution_count": 5,
      "metadata": {
        "colab": {
          "base_uri": "https://localhost:8080/"
        },
        "id": "zJy-Jb9_lwvZ",
        "outputId": "6c0a483d-640c-480b-a75f-0c5ded9578fa"
      },
      "outputs": [
        {
          "ename": "IndentationError",
          "evalue": "expected an indented block after 'if' statement on line 2 (1510262506.py, line 3)",
          "output_type": "error",
          "traceback": [
            "\u001b[1;36m  Cell \u001b[1;32mIn[5], line 3\u001b[1;36m\u001b[0m\n\u001b[1;33m    print(\"4 ist größer als 0\") # Falsch!! # hier um eine Stelle nach links rücken, damit der Fehler erzeugt wird\u001b[0m\n\u001b[1;37m    ^\u001b[0m\n\u001b[1;31mIndentationError\u001b[0m\u001b[1;31m:\u001b[0m expected an indented block after 'if' statement on line 2\n"
          ]
        }
      ],
      "source": [
        "# Falsch: print ist nicht eingerückt \n",
        "# berichtige den folgenden Code:\n",
        "if 4 > 0 :\n",
        "print(\"4 ist größer als 0\") # Falsch!! # hier um eine Stelle nach links rücken, damit der Fehler erzeugt wird"
      ]
    },
    {
      "cell_type": "markdown",
      "metadata": {
        "id": "rds_cKFSJvsq"
      },
      "source": [
        "## 2-3 Kommentare in Python"
      ]
    },
    {
      "cell_type": "code",
      "execution_count": null,
      "metadata": {
        "colab": {
          "base_uri": "https://localhost:8080/",
          "height": 35
        },
        "id": "j-7MbOf7Jttf",
        "outputId": "960130d4-f8f2-4960-e45a-6ba718d6dd07"
      },
      "outputs": [
        {
          "data": {
            "application/vnd.google.colaboratory.intrinsic+json": {
              "type": "string"
            },
            "text/plain": [
              "'\\nMehrzeiliger \\nKommentar\\n'"
            ]
          },
          "execution_count": 4,
          "metadata": {},
          "output_type": "execute_result"
        }
      ],
      "source": [
        "# Einzeiliger Kommentar\n",
        "# Noch ein Kommentar\n",
        "\n",
        "'''\n",
        "Mehrzeiliger \n",
        "Kommentar\n",
        "'''"
      ]
    },
    {
      "cell_type": "code",
      "execution_count": 1,
      "metadata": {
        "colab": {
          "base_uri": "https://localhost:8080/"
        },
        "id": "Rr0LNx9NO0MT",
        "outputId": "fd60d66c-9815-4b95-904a-8de637b467a3"
      },
      "outputs": [],
      "source": [
        "def add(x, y):  \n",
        "  \"\"\" \n",
        "  Mehrzeiliger Kommentar:\n",
        "  Die Funktion berechnet die Summe zweier Eingabe-Objekte\n",
        "  @param x: erster Summand\n",
        "  @param y: zweiter Summand\n",
        "  @return: Summe der Eingabewerte\n",
        "  \"\"\"\n",
        "  return x + y \n"
      ]
    },
    {
      "cell_type": "markdown",
      "metadata": {
        "id": "SJZGxj__lwvd"
      },
      "source": [
        "# 3. Variablen und Datentypen\n",
        "<p>\n",
        "In Python werden Variablen erstellt, sobald sie einen Wert zugewiesen bekommen. \n",
        "<br>Variablen werden mit einem Namen und einem Wert definiert.\n",
        "</p>"
      ]
    },
    {
      "cell_type": "code",
      "execution_count": 9,
      "metadata": {},
      "outputs": [
        {
          "name": "stdout",
          "output_type": "stream",
          "text": [
            "hallo\n"
          ]
        }
      ],
      "source": [
        "# test variable die den text \"hallo\" enthält\n",
        "test = \"hallo\"\n",
        "# variable in die Console ausgeben\n",
        "print(test)"
      ]
    },
    {
      "cell_type": "code",
      "execution_count": 8,
      "metadata": {
        "colab": {
          "base_uri": "https://localhost:8080/"
        },
        "id": "WCSqxBlYlwve",
        "outputId": "c9e9bddd-ec86-49a0-8049-632422f7f16b"
      },
      "outputs": [],
      "source": [
        "# name hat den Datentyp String\n",
        "name = \"HS KL\"   \n",
        "# jahr hat den Datentyp Integer\n",
        "jahr = 2019      \n",
        "# isOffen ist ein Wahrheitswert\n",
        "isOffen = True         \n",
        "# Zuweisungen: eine pro Zeile\n",
        "x = 1\n",
        "y = 2\n",
        "# oder mehrere in einer Zeile\n",
        "x, y = 1, 2 # x = 1, y = 2\n",
        "# Ausgabe (\"\\n\" -> Zeilenumbruch)\n",
        "print(name, \"\\n\", jahr, \"\\n\", isOffen,\"\\n\", x, y)"
      ]
    },
    {
      "cell_type": "markdown",
      "metadata": {
        "id": "0StW8dP9lwvr"
      },
      "source": [
        "##3-1 Datentypen\n",
        "\n",
        "Bei der Definition einer Variablen muss der Datentyp nicht angegeben werden, sondern wird durch die Zuweisung eines Wertes dynamisch ermittelt. Z.B. wird durch x = 5 der Datentyp der Variablen x als ganze Zahl (int) ermittelt. Dies kann man mit Hilfe der type()-Funktion überprüfen, die den Datentyp einer Variablen ausgibt.\n",
        "Durch Typumwandlung kann jedoch der Datentyp explizit festgelegt werden, z.B. durch x = float(5) wird der Datentyp explizit auf float festgelegt, oder durch x = str(\"Hallo Welt\") auf string."
      ]
    },
    {
      "cell_type": "code",
      "execution_count": 10,
      "metadata": {
        "colab": {
          "base_uri": "https://localhost:8080/"
        },
        "id": "GqDnrYHLlwvr",
        "outputId": "d9f5aab7-9dbc-4c9f-87d2-d10dd30e5c81"
      },
      "outputs": [
        {
          "name": "stdout",
          "output_type": "stream",
          "text": [
            "<class 'int'>\n",
            "<class 'float'>\n"
          ]
        }
      ],
      "source": [
        "# Datentyp von x \n",
        "# ist implizit int\n",
        "x = 5\n",
        "# schreibe nicht den Wert, sondern den Typ von x ind die Konsole\n",
        "print(type(x)) # Ausgabe: class'int'\n",
        "\n",
        "# Datentyp von y\n",
        "# wird auf float festgelegt\n",
        "y = float(5)\n",
        "# schreibe nicht den Wert, sondern den Typ von y ind die Konsole \n",
        "print(type(y)) # Ausgabe: class'float'"
      ]
    },
    {
      "cell_type": "markdown",
      "metadata": {
        "id": "50PJpfgUK9w_"
      },
      "source": [
        "#3-2 Numerische Datentypen\n",
        "Es gibt in Python drei Hauptdatentypen für Zahlen: int (ganze Zahlen), float (Fließkommazahlen) und complex (komplexe Zahlen), sowie einen Datentyp Decimal für korrekt gerundete Fließpunktarithmetik. Der in Python eingebaute Datentyp float hat doppelte Genauigkeit und entspricht dem Datentyp double in C oder Java."
      ]
    },
    {
      "cell_type": "code",
      "execution_count": 11,
      "metadata": {
        "colab": {
          "base_uri": "https://localhost:8080/"
        },
        "id": "BdpVd9rHlwvl",
        "outputId": "d089d301-12c7-46cc-8ed7-f2bc12b14be1"
      },
      "outputs": [
        {
          "name": "stdout",
          "output_type": "stream",
          "text": [
            "5 3.14\n",
            "3\n"
          ]
        }
      ],
      "source": [
        "x = 5 # int    \n",
        "pi = 3.14  # float\n",
        "print(x, pi)\n",
        "\n",
        "# Typecasting\n",
        "x = int(pi)\t# x = 3\n",
        "print(x)"
      ]
    },
    {
      "attachments": {},
      "cell_type": "markdown",
      "metadata": {
        "id": "K6LjaMdAlwvw"
      },
      "source": [
        "## 3-3 Text-Datentypen: Strings\n",
        "Der Datentyp String beschreibt Texte bzw. Zeichenketten (ein Text ist eine Zeichenkette, also eine Folge von Zeichen). Mit der Angabe eines Index, der bei 0 anfängt, kann man spezifische Zeichen aus der Zeichenkette auslesen. Es können auch negative Indizes verwendet werden, dann wird die Zeichenkette vom Ende durchlaufen. Für eine Zeichenkette x erhält man mit x[0] das erste Element, mit x[-1] das letzte Element."
      ]
    },
    {
      "cell_type": "code",
      "execution_count": 12,
      "metadata": {
        "colab": {
          "base_uri": "https://localhost:8080/"
        },
        "id": "gOD2-oiFMBtl",
        "outputId": "22437740-5145-48d6-ebfb-0bb9f111d4a9"
      },
      "outputs": [
        {
          "name": "stdout",
          "output_type": "stream",
          "text": [
            "H\n",
            "!\n",
            "allo!\n",
            "llo\n",
            "6\n",
            "Hallo aus Kaiserslautern\n"
          ]
        }
      ],
      "source": [
        "x = \"Hallo!\"\n",
        "\n",
        "# das erste Zeichen ausgeben\n",
        "print(x[0]) # H\n",
        "# das letzte Zeichen ausgeben\n",
        "print(x[-1]) # !\n",
        "\n",
        "# die Länge des Strings ausgaben\n",
        "print(len(x)) # 6\n",
        "\n",
        "x = \" Hallo aus Kaiserslautern \"\n",
        "# Leerzeichen entfernen\n",
        "print(x.strip())"
      ]
    },
    {
      "cell_type": "markdown",
      "metadata": {
        "id": "rfl6Qnyrlwv6"
      },
      "source": [
        "# <h2> 4. Operatoren in Python </h2>\n",
        "<p>\n",
        "Mit Operatoren werden Operationen an Variablen und Werten ausgeführt. Python unterteilt die Operatoren in folgende Gruppen:</p>\n",
        "        <ul>\n",
        "            <li> Arithmetische Operatoren: führen allgemeine mathematische Operationen aus.</li>\n",
        "            <li> Zuweisungsoperatoren: weisen Variablen Werte zu.</li>\n",
        "            <li> Vergleichsoperatoren: vergleichen zwei Werte.</li>\n",
        "            <li> Logische Operatoren: kombinieren logische Ausdrücke, die dann als wahr oder falsch ausgewertet werden.</li>\n",
        "            <li> Identitätsoperatoren: vergleichen Objekte</li>\n",
        "            <li> Mitgliedsoperatoren: prüfen, ob ein Objekt in einer Sequenz liegt.</li>\n",
        "            <li> Bitweise Operatoren: führen eine bitweise Verknüpfung der Operanden aus. </li>\n",
        "        </ul>"
      ]
    },
    {
      "cell_type": "code",
      "execution_count": null,
      "metadata": {
        "colab": {
          "base_uri": "https://localhost:8080/"
        },
        "id": "jyRhhVTZlwv7",
        "outputId": "4c49c807-1abe-432c-8ad3-b9f9edeb0c96"
      },
      "outputs": [
        {
          "name": "stdout",
          "output_type": "stream",
          "text": [
            "Arithmetische Operatoren\n",
            "13\n",
            "7\n",
            "30\n",
            "3.3333333333333335\n",
            "3\n",
            "1\n",
            "Logische Operatoren\n",
            "False\n",
            "1\n",
            "False\n",
            "Vergleichsoperatoren\n",
            "False\n",
            "True\n"
          ]
        }
      ],
      "source": [
        "# Arithmetische Operatoren\n",
        "x, y = 10, 3\n",
        "# Logische Operatoren\n",
        "print('Arithmetische Operatoren')\n",
        "print(x+y)\n",
        "print(x-y)\n",
        "print(x*y)\n",
        "print(x/y)\n",
        "print(x//y) # Ganzzahldivision, 10 // 3 = 3\n",
        "print(x % y) # Modulo, Rest der Ganzzahldivision: 10 % 3 = 1\n",
        "# Logische Operatoren\n",
        "print('Logische Operatoren')\n",
        "print(True and False) # Ausgabe: False\n",
        "print (1 or 0) # Ausgabe: 1\n",
        "print (not 1) # Ausgabe: False\n",
        "# Vergleichsoperatoren\n",
        "print('Vergleichsoperatoren')\n",
        "print(x is y) # Ausgabe: False\n",
        "print(x is x) # Ausgabe: True"
      ]
    },
    {
      "cell_type": "markdown",
      "metadata": {
        "id": "eXb1I_3-lwv-"
      },
      "source": [
        "# 5. Eingabe und Ausgabe"
      ]
    },
    {
      "cell_type": "markdown",
      "metadata": {
        "id": "CKzw9Lv_lwv-"
      },
      "source": [
        "Die Eingabe erfolgt mit Hilfe der \"input()\"-Funktion. Der Befehl x = input() erzeugt ein Eingabefeld, und alles, was man darin eingibt, wird in die Variable x gespeichert. Soll die Eingabe als ein bestimmter Datentyp interpretiert werden, muss sie mit Hilfe einer entsprechenden Funktion (z.B. int(), oder str()) umgewandelt werden."
      ]
    },
    {
      "cell_type": "code",
      "execution_count": null,
      "metadata": {
        "colab": {
          "background_save": true,
          "base_uri": "https://localhost:8080/"
        },
        "id": "bLWW8-P7lwv_",
        "outputId": "ab4d7843-afe9-4fa6-ab7e-bac8dd1ed9d6"
      },
      "outputs": [
        {
          "name": "stdout",
          "output_type": "stream",
          "text": [
            "Zahl eingeben:\n"
          ]
        }
      ],
      "source": [
        "# Eingabe\n",
        "print(\"Zahl eingeben:\")\n",
        "x = int(input())\n",
        "print(\"Noch eine Zahl eingeben:\")\n",
        "y = int(input())\n",
        "print(\"Ihre Eingabe: x = %d, y = %d\" % (x, y))"
      ]
    },
    {
      "cell_type": "markdown",
      "metadata": {
        "id": "f91qHVaGlwwC"
      },
      "source": [
        "Formatierte Ausgaben, die Texte und die Inhalte von Variablen kombinieren, können in Python auf verschiedene Arten umgesetzt werden:\n",
        "\n",
        "* Inhalte numerischer Variablen mit Hilfe der str-Funktion in Zeichenketten  umwandeln und mit Hilfe des +-Operators verschiedene Zeichenketten aneinanderfügen.\n",
        "* Formatierte Ausgabe mit Hilfe einer formatierenden Zeichenkette und der Platzhalter %d, %f, %s\n",
        "* Formatierte Ausgabe mit Hilfe der String-Methode format()"
      ]
    },
    {
      "cell_type": "code",
      "execution_count": 2,
      "metadata": {
        "id": "aT1VhGwXlwwC"
      },
      "outputs": [
        {
          "name": "stdout",
          "output_type": "stream",
          "text": [
            "x=5 y=20.5 Summe=25.5\n",
            "x=5, y=20.5, Summe=25.50\n",
            "x=5, y=20.5, Summe=25.50\n"
          ]
        }
      ],
      "source": [
        "# Beispiel erzeugt drei Mal dieselbe Ausgabe\n",
        "# Ausgabe: x=5, y=20.5, Summe=25.50\n",
        "x, y = 5, 20.5\n",
        "sum = x + y\n",
        "# Ausgabe eines Textes mit angefügter float-Variablen\n",
        "print(\"x=\" + str(x) + \" y=\" + str(y) + \" Summe=\" + str(sum)) \n",
        "\n",
        "# Formatierte Ausgabe mit Platzhaltern (C-Style)\n",
        "print(\"x=%d, y=%.1f, Summe=%.2f\" % (x, y, x + y)) \n",
        "# Formatierte Ausgabe mit format\n",
        "print(\"x={0:d}, y={1:.1f}, Summe={2:.2f}\".format(x, y, x+y))"
      ]
    },
    {
      "cell_type": "markdown",
      "metadata": {
        "id": "4zHm3CXTlwwF"
      },
      "source": [
        "# 6. Bedingte Verzweigungen\n",
        "<p>\n",
        "Eine <b>bedingte Verzweigung</b> ist eine Kontrollstruktur, die festlegt, welcher von zwei (oder mehr) Anweisungsblöcken, abhängig von einer (oder mehreren) Bedingungen, ausgeführt wird. Bedingte Verzweigungen werden in Python wie in fast allen Programmiersprachen mit der if-else-Anweisung beschrieben. Das Schlüsselwort \"elif\" in Python ist genau wie: \"Wenn die vorherigen Bedingungen nicht zutreffen, versucht es mit dieser Bedingung\" und das Schlüsselwort \"else\" fängt alles ab, was von den vorhergehenden Bedingungen nicht erfasst wird.\n",
        "</p>"
      ]
    },
    {
      "cell_type": "code",
      "execution_count": null,
      "metadata": {
        "id": "-Y5kyNJslwwF"
      },
      "outputs": [],
      "source": [
        "x, y = 1, 4  # x = 1 und y = 4\n",
        "if x > y :\n",
        "  print(\"%d > %d\" % (x, y));\n",
        "elif  x == y :\n",
        "  print(\"%d == %d\" % (x, y));\n",
        "else :\n",
        "  print(\"%d < %d\" % (x, y));"
      ]
    },
    {
      "cell_type": "markdown",
      "metadata": {
        "id": "foD2uDNelwwL"
      },
      "source": [
        "<h2> 7. Schleifen</h2>\n",
        "<p>Schleifen ermöglichen es, Anweisungen wiederholt auszuführen, und zwar so lange, wie eine Ausführungsbedingung erfüllt ist. Python verfügt über zwei Schleifenbefehle: <b>\"while\"-Schleife</b> und <b>\"for\"-Schleife</b>. </p>"
      ]
    },
    {
      "cell_type": "markdown",
      "metadata": {
        "id": "KC3IZQP2dA8Y"
      },
      "source": [
        "<h3>while-Schleife</h3>\n",
        "Beispiel: Berechne Summe der ersten 5 Zahlen mit while-Schleife"
      ]
    },
    {
      "cell_type": "code",
      "execution_count": 5,
      "metadata": {
        "id": "rwZ9IgoolwwM"
      },
      "outputs": [
        {
          "name": "stdout",
          "output_type": "stream",
          "text": [
            "1+\n",
            "2+\n",
            "3+\n",
            "4+\n",
            "5+\n",
            "Summe = 15\n"
          ]
        }
      ],
      "source": [
        "# Berechne Summe der ersten 5 Zahlen mit while-Schleife\n",
        "# 1 + 2 + 3 + 4 + 5 = 15\n",
        "sum = 0 \n",
        "i = 1 \n",
        "while i <= 5: \n",
        "    print(str(i) + \"+\") # Ausgabe der Zählvariablen \n",
        "    sum += i # Addiere i zur Variable sum hinzu \n",
        "    i += 1 # Inkrementiere i \n",
        "print(\"Summe = \" + str(sum)) "
      ]
    },
    {
      "cell_type": "markdown",
      "metadata": {
        "id": "dw-WpuUZgLu4"
      },
      "source": [
        "<h3>for-Schleife</h3>\n",
        "Beispiel: Berechne Summe der ersten 5 Zahlen mit for-Schleife"
      ]
    },
    {
      "cell_type": "code",
      "execution_count": null,
      "metadata": {
        "id": "kVKSUivNlwwP"
      },
      "outputs": [],
      "source": [
        "sum = 0\n",
        "for i in range(1,6):\n",
        "    print(str(i) + \"+\")\n",
        "    sum += i\n",
        "print(\"Summe = \" + str(sum))"
      ]
    },
    {
      "cell_type": "markdown",
      "metadata": {
        "id": "1GbXsROGlwwV"
      },
      "source": [
        "# 8. Datenstrukturen\n",
        "<p>\n",
        "In Python gibt es vier Datenstrukturen für Listen und Mengen: Listen (engl. lists), Tupel (engl. tuples), Mengen (engl. sets) und Dictionary (engl. dictionary). Python-Datenstrukturen können grundsätzlich unterschiedliche Datentypen enthalten, d.h. Objekte beliebigen Datentyps. Jedoch muss man bei der Durchführung von Operationen auf Elementen der Datenstruktur auf Kompatibilität achten. Die angeführten Python-Datenstrukturen unterscheiden sich darin, ob sie änderbar sind (oder nicht), geordnet sind (oder nicht), und Duplikate zulassen (oder nicht).\n",
        "    </p>"
      ]
    },
    {
      "cell_type": "code",
      "execution_count": null,
      "metadata": {
        "id": "A_GgrVqQlwwW"
      },
      "outputs": [],
      "source": [
        "# Liste\n",
        "studenten = [\"Max Muster\", \"Anna Test\", \"John Doe\"]\n",
        "print(studenten) # ['Max Muster', 'Anna Test', 'John Doe']\n",
        "studenten[2] = \"Jane Doe\" # Zuweisung\n",
        "print(studenten[0]) # Max Muster\n",
        "print(studenten[-1]) # Jane Doe\n",
        "print(studenten[1:3]) # ['Anna Test', 'Jane Doe']"
      ]
    },
    {
      "cell_type": "code",
      "execution_count": null,
      "metadata": {
        "id": "A17aRxJmlwwZ"
      },
      "outputs": [],
      "source": [
        "# Tupel\n",
        "adresse = (\"Hochschule Kaiserslautern\", \"Schoenstrasse\", 11)\n",
        "print(adresse)      # ('Hochschule Kaiserslautern', 'Schoenstrasse', 11)\n",
        "print(adresse[-1])  # 11\n",
        "print(adresse[1:3])     # ('Schoenstrasse', 11)"
      ]
    },
    {
      "cell_type": "code",
      "execution_count": null,
      "metadata": {
        "id": "JOP_KbKLE7I6"
      },
      "outputs": [],
      "source": [
        "# Fehler: Tupel darf nicht geändert werden\n",
        "adresse[0] = \"Morlauterer Strasse\""
      ]
    },
    {
      "cell_type": "code",
      "execution_count": null,
      "metadata": {
        "id": "Y3SBMqBNlwwc"
      },
      "outputs": [],
      "source": [
        "# Mengen (Sets) \n",
        "menge1 = {1, 2, 3, 4, \"a\", \"b\", \"c\"}\n",
        "menge2 = {3, 4, 5, 6, \"c\"}\n",
        "menge1.add(8)       # neues Element hinzufügen\n",
        "menge2.discard(6)   #  Element löschen\n",
        "print(menge1) # {1, 2, 3, 4, 8, 'a', 'b', 'c'}\n",
        "print(menge2) # {3, 4, 5, 'c'}\n",
        "u = menge1.union(menge2) # Vereinigung (Union)\n",
        "print(u) # {1, 2, 3, 4, 5, 8, 'a', 'b', 'c'}\n",
        "diff = menge1.difference(menge2) # Differenz der beiden Mengen\n",
        "print(diff) # {1, 2, 8, 'a', 'b'}"
      ]
    },
    {
      "cell_type": "markdown",
      "metadata": {
        "id": "I1_AtaljtUJl"
      },
      "source": [
        "##Dictionary\n",
        "* Speichert Schlüssel-Wert-Paare\n",
        "* Der Schlüssel sollte eindeutig sein\n",
        "* Z.B. Telefonbuch (Schlüssel = Name, Wert = Telefonnummer) oder Studenten (Schlüssel = Matrikelnummer, Wert = Student)"
      ]
    },
    {
      "cell_type": "code",
      "execution_count": null,
      "metadata": {
        "id": "vx_k83Jnlwwf"
      },
      "outputs": [],
      "source": [
        "# Dictionary (Hashmap) \n",
        "telefonbuch = {\n",
        " \"Max Muster\" : \"0171 876654\",\n",
        " \"Anna Test\" : \"0151 987654\"\n",
        " }\n",
        "# Neuen Wert hinzufügen\n",
        "telefonbuch[\"John Doe\"] = \"0171 123456\" \n",
        "telefonbuch # Telefonbuch ausgeben\n",
        "# Wertaufruf mit Schlüsselwert\n",
        "annasNummer = telefonbuch.get(\"Anna Test\")  \n",
        "print(\"\\nAusgabe des Telefonbuchs\")\n",
        "print(telefonbuch) # 0151 987654\n",
        "print(\"\\nAusgabe der Schlüssel:\")\n",
        "for key in telefonbuch:\n",
        "    print(key)\n",
        "print(\"\\nAusgabe der Schlüssel-Wert-Paare:\")    \n",
        "for key, value in telefonbuch.items():\n",
        "    print(key, value)"
      ]
    },
    {
      "cell_type": "markdown",
      "metadata": {
        "id": "TLHJSiqDlwwh"
      },
      "source": [
        "# 9. Funktionen in Python"
      ]
    },
    {
      "cell_type": "markdown",
      "metadata": {
        "id": "xxShzc8frLC_"
      },
      "source": [
        "Eine Funktion ist ein Codeblock, der nur ausgeführt wird, wenn er aufgerufen wird. Funktionen werden einmal definiert und können dann beliebig oft aufgerufen werden. Man kann Daten oder sogenannte Parameter, an eine Funktion übergeben. Eine Funktion kann auch Daten/Parameter zurückgeben. Damit eine Funktion Werte zurückgeben kann, benutzt man das Schlüsselwort \"return\".\n",
        "\n",
        "Funktionen kommen auf zweierlei Arten zum Einsatz: zum einen verwendet man vorhandene Funktionen der Python-Pakete, um gewisse Aufgaben durchzuführen. Zum anderen entwickelt man eigene Funktionen für Teilaufgaben und strukturiert damit größere Programme."
      ]
    },
    {
      "cell_type": "markdown",
      "metadata": {
        "id": "tQ1x386US9yA"
      },
      "source": [
        "## 9-1 Funktion ohne Parameter"
      ]
    },
    {
      "cell_type": "code",
      "execution_count": null,
      "metadata": {
        "id": "UT6qn7U7S6zz"
      },
      "outputs": [],
      "source": [
        "def my_func(): \n",
        "    print(\"Hallo!\")\n",
        "\n",
        "# Funktions-Aufrufe       \n",
        "my_func()\t# Ausgabe: Hallo!\n",
        "my_func()\t# Ausgabe: Hallo!"
      ]
    },
    {
      "cell_type": "markdown",
      "metadata": {
        "id": "MWm565xaTLDf"
      },
      "source": [
        "## 9-2 Funktion mit Übergabeparameter"
      ]
    },
    {
      "cell_type": "code",
      "execution_count": null,
      "metadata": {
        "id": "7Pf-spCFTZAn"
      },
      "outputs": [],
      "source": [
        "def my_func(text):  \n",
        "  \"\"\" \n",
        "  Die Funktion gibt einen Text aus\n",
        "  @type x: string\n",
        "  @param text: der auszugebende Text\n",
        "  \"\"\"\n",
        "  print(text)   \n",
        "# Funktions-Aufrufe:             \n",
        "my_func(\"Hallo\")\t# Ausgabe: Hallo\n",
        "my_func(\"zusammen!\") # Ausgabe: zusammen!\n",
        "help(my_func)"
      ]
    },
    {
      "cell_type": "markdown",
      "metadata": {
        "id": "6ZUFiQSUTi_C"
      },
      "source": [
        "## 9-3 Funktion mit Standard-Übergabeparameter"
      ]
    },
    {
      "cell_type": "code",
      "execution_count": null,
      "metadata": {
        "id": "8W9jfzDylwwi"
      },
      "outputs": [],
      "source": [
        "#Funktion mit Standard-Übergabe-Parameter:           \n",
        "def my_func(text = \"kein Text übergegeben\"): \n",
        "    print(text)\n",
        "\n",
        " # Funktions-Aufrufe:           \n",
        "my_func()\t# Ausgabe: kein Text übergegeben\n",
        "my_func(\"Übergegebener Wert\")\t# Ausgabe: Übergegebener Wert\n",
        "my_func(text = \"Übergegebener Wert\")\t# Ausgabe:Übergegebener Wert"
      ]
    },
    {
      "cell_type": "code",
      "execution_count": null,
      "metadata": {
        "id": "fY-cy-7glwwl"
      },
      "outputs": [],
      "source": [
        "#Funktionen mit Rückgabe-Parameter:           \n",
        "def my_func(x):  \n",
        "  \"\"\" \n",
        "  Die Funktion multipliziert den Eingabewert mit 2\n",
        "  @type x: number\n",
        "  @param x: die Zahl, die mit 2 multipliziert werden soll\n",
        "  @return: Eingabewert mal 2\n",
        "  \"\"\"\n",
        "  return x*2 \n",
        "my_func(5)\t# Rückgabe des Wertes 10 "
      ]
    },
    {
      "cell_type": "code",
      "execution_count": null,
      "metadata": {
        "id": "QiVGId38Rjui"
      },
      "outputs": [],
      "source": [
        "def my_func(*x): \n",
        "    print(x[2]) \n",
        "my_func(4, 5, 6)\t# Ausgabe: 6"
      ]
    },
    {
      "cell_type": "markdown",
      "metadata": {
        "id": "To7Mr1uWlwwo"
      },
      "source": [
        "<h2>Bibliotheksfunktionen verwenden</h2>\n",
        "<p></p>"
      ]
    },
    {
      "cell_type": "markdown",
      "metadata": {
        "id": "xQmnjzSnlwwo"
      },
      "source": [
        "<p>In Python kann man mit Hilfe der import-Anweisung entweder eine komplette Programmbibliothek importieren, oder nur einzelne Funktionen der Programmbibliothek. Beim Import werden für die jeweiligen Bibliotheken oder Funktionen Alias-Namen vergeben: für pandas vergeben wir den Alias pd, etc.</p>\n",
        "\n",
        "<p>Beispiel:\n",
        "Erstellen eines Pandas-Dataframes für die Speicherung von Adressen</p>"
      ]
    },
    {
      "cell_type": "code",
      "execution_count": null,
      "metadata": {
        "id": "eh24UugZlwwp"
      },
      "outputs": [],
      "source": [
        "import pandas as pd\n",
        "name = pd.Series([\"Max Muster\", \"Anna Test\", \"John Doe\"])\n",
        "adresse = pd.Series([\"Schoenstrasse 11\", \"Unter de Linden 2\", \"Amperstrasse 1\"])\n",
        "tel = pd.Series([\"0151 (345678)\", \"0171 (123456)\", \"0161 (987654)\"])\n",
        "df = pd.concat([name, adresse, tel], axis=1)\n",
        "print(name)"
      ]
    },
    {
      "cell_type": "code",
      "execution_count": null,
      "metadata": {
        "id": "mNS2mFWTlwwt"
      },
      "outputs": [],
      "source": [
        "import pandas as pd\n",
        "adressbuch = {\n",
        " \"Name\": [\"Max Muster\", \"Anna Test\", \"John Doe\"],\n",
        " \"Adresse\": [\"Schoenstrasse 11\", \"Unter de Linden 2\", \"Amperstrasse 1\"],\n",
        " \"Telefonnummer\": [\"0151 (345678)\", \"0171 (123456)\", \"0161 (987654)\"]\n",
        " }\n",
        "df = pd.DataFrame(adressbuch)\n",
        "df"
      ]
    },
    {
      "cell_type": "markdown",
      "metadata": {
        "id": "sXswGe31lwwy"
      },
      "source": [
        "## 10. Objektorientierte Programmierung in Python"
      ]
    },
    {
      "cell_type": "markdown",
      "metadata": {
        "id": "lYJ-WMdKq1Un"
      },
      "source": [
        "Python ist eine objektorientierte Programmiersprache. Fast alles in Python ist ein Objekt inkl. seiner Eigenschaften und Methoden. Eine Klasse ist ein Objekt-Konstruktor zum Erstellen von Objekten der gleichen Klasse. In Python benutzt man für Klassendefinition das Schlüsselwort \"class\". Eine Methode einer Klasse ist eine Funktion, die innerhalb einer Klasse definiert wird und als ersten Parameter eine Referenz (\"self\") auf die Instanz enthält, von der sie aufgerufen wurde."
      ]
    },
    {
      "cell_type": "markdown",
      "metadata": {
        "id": "4IrJPF8Mlwwy"
      },
      "source": [
        "### Klassen definieren und Klassenobjekte erzeugen\n"
      ]
    },
    {
      "cell_type": "markdown",
      "metadata": {
        "id": "iCpj9nvkqtKa"
      },
      "source": [
        "Python-Klassen haben eine \"__init __ ()\"-Methode, die implizit beim Erstellen eines neuen Klassenobjektes ausgeführt wird. Die \"__init __ ()\"-Methode wird verwendet, um Objekteigenschaften zu setzen oder andere Vorgänge, die beim Erstellen des Objekts erforderlich sind, durchzuführen.\n",
        "\n",
        "**Beispiel**: Wir deklarieren eine Klasse Auto, mit der wir neue Auto-Objekte erzeugen wollen. Ein Auto hat die Eigenschaften Hersteller und Modell und eine Methode \"ausgeben()\", die die Eigenschaften des Autos zu einer Zeichenkette zusammenbaut und ausgibt."
      ]
    },
    {
      "cell_type": "code",
      "execution_count": null,
      "metadata": {
        "id": "LNzT7H65lwwz"
      },
      "outputs": [],
      "source": [
        "class Auto:\n",
        "    def __init__(self, hersteller, modell):\n",
        "        self.hersteller = hersteller\n",
        "        self.modell = modell       \n",
        "    def ausgeben(self):\n",
        "        print(\"Hersteller: \" + self.hersteller + \", Modell: \" + self.modell)\n",
        "    \n",
        "# Erstelle neue Klassenobjekte, gebe sie aus, und lösche sie wieder\n",
        "my_auto1 = Auto(\"Audi\", \"A3\") \n",
        "my_auto2 = Auto(\"BMW\", \"i3\")\n",
        "my_auto1.ausgeben() # Ausgabe: Hersteller: Audi, Modell: A3\n",
        "my_auto2.ausgeben() # Ausgabe: Hersteller: BMW, Modell: i3\n",
        "del my_auto1\n",
        "del my_auto2"
      ]
    },
    {
      "cell_type": "markdown",
      "metadata": {
        "id": "IBWNaPKflww3"
      },
      "source": [
        "### Vererbung in Python"
      ]
    },
    {
      "cell_type": "code",
      "execution_count": null,
      "metadata": {
        "id": "rvvNpPLflww4"
      },
      "outputs": [],
      "source": [
        "# Basisklasse für Fahrzeuge\n",
        "class Fahrzeug: \n",
        "    def __init__(self, hersteller, modell):\n",
        "        self.hersteller = hersteller\n",
        "        self.modell = modell\n",
        "    def ausgeben(self):\n",
        "        print(\"Hersteller: \" + self.hersteller + \", Modell: \" + self.modell)\n",
        "# Subklasse für Autos        \n",
        "class Auto(Fahrzeug): \n",
        "    def __init__(self, hersteller, modell, farbe):\n",
        "        super().__init__(hersteller, modell)\n",
        "        self.farbe = farbe\n",
        "    def farbe_ausgeben(self):\n",
        "        print(\"Auto: Farbe: \" + self.farbe)\n",
        " # Erstellung eines Klassenobjektes und Ausführen der Methoden\n",
        "my_auto = Auto(\"Audi\", \"A3\", \"rot\")\n",
        "my_auto.ausgeben() # Methode geerbt von Fahrzeug-Klasse\n",
        "my_auto.farbe_ausgeben() # zusätzl. Methode aus Auto-Klasse"
      ]
    },
    {
      "cell_type": "code",
      "execution_count": null,
      "metadata": {
        "id": "L78nEE7Alww7"
      },
      "outputs": [],
      "source": [
        "# Subklasse für LKWs\n",
        "class LKW(Fahrzeug):\n",
        "    pass\n",
        "    def ausgeben(self):\n",
        "        print(\"LKW: Hersteller: \" + self.hersteller + \", Modell: \" + self.modell)\n",
        "# Erstellung eines Klassenobjektes und Ausführen der Methoden\n",
        "my_lkw = LKW(\"Mercedes-Benz\", \"Unimog\")\n",
        "my_lkw.ausgeben()"
      ]
    }
  ],
  "metadata": {
    "colab": {
      "provenance": []
    },
    "kernelspec": {
      "display_name": "Python 3",
      "language": "python",
      "name": "python3"
    },
    "language_info": {
      "codemirror_mode": {
        "name": "ipython",
        "version": 3
      },
      "file_extension": ".py",
      "mimetype": "text/x-python",
      "name": "python",
      "nbconvert_exporter": "python",
      "pygments_lexer": "ipython3",
      "version": "3.10.6"
    },
    "vscode": {
      "interpreter": {
        "hash": "0f2f6c680cf484319d387fabac80ca4ff4fc33965036e02100b3fe02600f1423"
      }
    }
  },
  "nbformat": 4,
  "nbformat_minor": 0
}
